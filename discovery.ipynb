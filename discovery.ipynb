{
 "cells": [
  {
   "cell_type": "code",
   "execution_count": 1,
   "metadata": {},
   "outputs": [],
   "source": [
    "import requests\n",
    "from pprint import pprint\n",
    "from prettytable import PrettyTable"
   ]
  },
  {
   "cell_type": "code",
   "execution_count": 2,
   "metadata": {},
   "outputs": [
    {
     "name": "stdout",
     "output_type": "stream",
     "text": [
      "Requesting http://khanacademy.org/api/v1/topictree\n"
     ]
    }
   ],
   "source": [
    "ka_api = 'http://api-explorer.khanacademy.org'\n",
    "ka = 'http://khanacademy.org'\n",
    "\n",
    "exercises = '/api/v1/exercises'\n",
    "topictree = '/api/v1/topictree'\n",
    "\n",
    "req = '{}{}'.format(ka, topictree)\n",
    "print('Requesting', req)\n",
    "\n",
    "r = requests.get(req)"
   ]
  },
  {
   "cell_type": "code",
   "execution_count": 3,
   "metadata": {},
   "outputs": [
    {
     "data": {
      "text/plain": [
       "109203939"
      ]
     },
     "execution_count": 3,
     "metadata": {},
     "output_type": "execute_result"
    }
   ],
   "source": [
    "len(r.text)"
   ]
  },
  {
   "cell_type": "code",
   "execution_count": 4,
   "metadata": {},
   "outputs": [],
   "source": [
    "resp = r.json()"
   ]
  },
  {
   "cell_type": "code",
   "execution_count": 5,
   "metadata": {},
   "outputs": [
    {
     "data": {
      "text/plain": [
       "47"
      ]
     },
     "execution_count": 5,
     "metadata": {},
     "output_type": "execute_result"
    }
   ],
   "source": [
    "len(resp)"
   ]
  },
  {
   "cell_type": "code",
   "execution_count": 6,
   "metadata": {},
   "outputs": [
    {
     "data": {
      "text/plain": [
       "dict"
      ]
     },
     "execution_count": 6,
     "metadata": {},
     "output_type": "execute_result"
    }
   ],
   "source": [
    "type(resp)"
   ]
  },
  {
   "cell_type": "code",
   "execution_count": 7,
   "metadata": {},
   "outputs": [
    {
     "name": "stdout",
     "output_type": "stream",
     "text": [
      "+----------------------------------+--------------------+\n",
      "|               Key                |        Type        |\n",
      "+----------------------------------+--------------------+\n",
      "|            gplus_url             |   <class 'str'>    |\n",
      "| has_user_authored_content_types  |   <class 'bool'>   |\n",
      "|         standalone_title         |   <class 'str'>    |\n",
      "|               hide               |   <class 'bool'>   |\n",
      "|           content_kind           |   <class 'str'>    |\n",
      "|           domain_slug            | <class 'NoneType'> |\n",
      "|              ka_url              |   <class 'str'>    |\n",
      "|         translated_title         |   <class 'str'>    |\n",
      "|     background_image_caption     |   <class 'str'>    |\n",
      "|    has_peer_reviewed_projects    |   <class 'bool'>   |\n",
      "|       background_image_url       |   <class 'str'>    |\n",
      "|             icon_src             |   <class 'str'>    |\n",
      "|           endorsement            | <class 'NoneType'> |\n",
      "|         alternate_slugs          |   <class 'list'>   |\n",
      "|          logo_image_url          |   <class 'str'>    |\n",
      "|          extended_slug           |   <class 'str'>    |\n",
      "|             web_url              |   <class 'str'>    |\n",
      "|            node_slug             |   <class 'str'>    |\n",
      "|           relative_url           |   <class 'str'>    |\n",
      "|         deleted_mod_time         |   <class 'str'>    |\n",
      "|           render_type            |   <class 'str'>    |\n",
      "|           description            |   <class 'str'>    |\n",
      "|          listed_locales          |   <class 'list'>   |\n",
      "|        branding_image_url        |   <class 'str'>    |\n",
      "|          topic_page_url          |   <class 'str'>    |\n",
      "|   user_authored_content_types    |   <class 'list'>   |\n",
      "|             children             |   <class 'list'>   |\n",
      "|          do_not_publish          |   <class 'bool'>   |\n",
      "|               kind               |   <class 'str'>    |\n",
      "|               slug               |   <class 'str'>    |\n",
      "|                id                |   <class 'str'>    |\n",
      "|            child_data            |   <class 'list'>   |\n",
      "|   translated_standalone_title    |   <class 'str'>    |\n",
      "|           twitter_url            |   <class 'str'>    |\n",
      "|              title               |   <class 'str'>    |\n",
      "|           facebook_url           |   <class 'str'>    |\n",
      "| user_authored_content_types_info |   <class 'list'>   |\n",
      "|               tags               |   <class 'list'>   |\n",
      "|          creation_date           |   <class 'str'>    |\n",
      "|          curriculum_key          |   <class 'str'>    |\n",
      "|             deleted              |   <class 'bool'>   |\n",
      "|      translated_description      |   <class 'str'>    |\n",
      "|               sha                |   <class 'str'>    |\n",
      "|         in_knowledge_map         |   <class 'bool'>   |\n",
      "|       current_revision_key       |   <class 'str'>    |\n",
      "|            content_id            |   <class 'str'>    |\n",
      "|             curation             |   <class 'dict'>   |\n",
      "+----------------------------------+--------------------+\n"
     ]
    }
   ],
   "source": [
    "table = PrettyTable()\n",
    "table.field_names = ['Key', 'Type']\n",
    "\n",
    "for key in resp.keys():\n",
    "    table.add_row([key, type(resp[key])])\n",
    "    \n",
    "print(table)"
   ]
  },
  {
   "cell_type": "code",
   "execution_count": 8,
   "metadata": {},
   "outputs": [
    {
     "data": {
      "text/plain": [
       "14"
      ]
     },
     "execution_count": 8,
     "metadata": {},
     "output_type": "execute_result"
    }
   ],
   "source": [
    "len(resp['children'])"
   ]
  },
  {
   "cell_type": "code",
   "execution_count": 9,
   "metadata": {},
   "outputs": [
    {
     "data": {
      "text/plain": [
       "dict_keys(['gplus_url', 'has_user_authored_content_types', 'standalone_title', 'hide', 'content_kind', 'domain_slug', 'ka_url', 'translated_title', 'background_image_caption', 'has_peer_reviewed_projects', 'background_image_url', 'icon_src', 'endorsement', 'alternate_slugs', 'logo_image_url', 'extended_slug', 'web_url', 'node_slug', 'relative_url', 'deleted_mod_time', 'render_type', 'description', 'listed_locales', 'branding_image_url', 'topic_page_url', 'user_authored_content_types', 'children', 'do_not_publish', 'kind', 'slug', 'id', 'child_data', 'translated_standalone_title', 'twitter_url', 'title', 'facebook_url', 'user_authored_content_types_info', 'tags', 'creation_date', 'curriculum_key', 'deleted', 'translated_description', 'sha', 'in_knowledge_map', 'current_revision_key', 'content_id', 'curation'])"
      ]
     },
     "execution_count": 9,
     "metadata": {},
     "output_type": "execute_result"
    }
   ],
   "source": [
    "resp['children'][0].keys()"
   ]
  },
  {
   "cell_type": "code",
   "execution_count": 10,
   "metadata": {},
   "outputs": [],
   "source": [
    "def structure(d, spacing='', level=0):\n",
    "    if level > 2:\n",
    "        return\n",
    "    \n",
    "    print(spacing, d['node_slug'])\n",
    "    print(spacing, '  url:', ka + d['relative_url'])\n",
    "    print(spacing, '  title:', d['title'])\n",
    "    \n",
    "    if not 'children' in d:\n",
    "        return\n",
    "    \n",
    "    for children in d['children']:\n",
    "        structure(children, spacing + '   ', level + 1)"
   ]
  },
  {
   "cell_type": "code",
   "execution_count": 11,
   "metadata": {},
   "outputs": [
    {
     "name": "stdout",
     "output_type": "stream",
     "text": [
      "math\n",
      "science\n",
      "economics-finance-domain\n",
      "humanities\n",
      "computing\n",
      "test-prep\n",
      "educator-test\n",
      "partner-content\n",
      "talks-and-interviews\n",
      "college-careers-more\n",
      "talent-search\n",
      "resources\n",
      "mappers\n",
      "kmap\n"
     ]
    }
   ],
   "source": [
    "for children in resp['children']:\n",
    "    print(children['node_slug'])"
   ]
  },
  {
   "cell_type": "code",
   "execution_count": 18,
   "metadata": {},
   "outputs": [],
   "source": [
    "def get_section_by_slug(d, slug):\n",
    "    if d['node_slug'] == slug:\n",
    "        return d\n",
    "        \n",
    "    if not 'children' in d:\n",
    "        return None\n",
    "    \n",
    "    for children in d['children']:\n",
    "        slug_dict = get_section_by_slug(children, slug)\n",
    "        if slug_dict:\n",
    "            return slug_dict\n",
    "    \n",
    "    return None"
   ]
  },
  {
   "cell_type": "code",
   "execution_count": 19,
   "metadata": {},
   "outputs": [],
   "source": [
    "em = get_section_by_slug(resp, 'early-math')"
   ]
  },
  {
   "cell_type": "code",
   "execution_count": 20,
   "metadata": {},
   "outputs": [
    {
     "data": {
      "text/plain": [
       "dict"
      ]
     },
     "execution_count": 20,
     "metadata": {},
     "output_type": "execute_result"
    }
   ],
   "source": [
    "type(em)"
   ]
  },
  {
   "cell_type": "raw",
   "metadata": {},
   "source": [
    "def extract_section(d, section_name):\n",
    "    for node in d['children']:\n",
    "        if node['node_slug'] == section_name:\n",
    "            return node\n",
    "    return None"
   ]
  },
  {
   "cell_type": "code",
   "execution_count": 22,
   "metadata": {},
   "outputs": [
    {
     "name": "stdout",
     "output_type": "stream",
     "text": [
      "Math [slug: math]\n",
      "Sections:\n",
      "\tK-8th grades [section slug: k-8-grades]\n",
      "\tEureka Math/EngageNY support [section slug: engageny]\n",
      "\tRemediation support for Eureka Math/EngageNY [section slug: topic-foundations-engageny]\n",
      "\tOn-grade support for Eureka Math/EngageNY [section slug: on-grade-engageny]\n",
      "\tHigh school math [section slug: math-1-2-3]\n",
      "\tClass 5 math (India) [section slug: in-fifth-grade-math]\n",
      "\tClass 6 math (India)  [section slug: in-in-class-6th-math-cbse]\n",
      "\tClass 7 math (India) [section slug: in-in-class-7th-math-cbse]\n",
      "\tClass 8 math (India) [section slug: in-in-class-8th-math-cbse]\n",
      "\tClass 9 math (India) [section slug: in-in-grade-9-ncert]\n",
      "\tClass 10 math (India) [section slug: in-in-grade-10-ncert]\n",
      "\tClass 11 math (India) [section slug: in-in-grade-11-ncert]\n",
      "\tClass 12 math (India) [section slug: in-in-grade-12-ncert]\n",
      "\tClass 6 Math (India) - Hindi  [section slug: in-in-class-6-math-cbse-hindi]\n",
      "\tClass 7 Math (India) - Hindi [section slug: in-in-class-7th-math-cbse-hindi]\n",
      "\tClass 8 Math (India) - Hindi [section slug: in-in-class-8-math-india-hindi]\n",
      "\tClass 9 Math (India) - Hindi [section slug: in-in-class-9-math-india-hindi]\n",
      "\tClass 10 Math (India) - Hindi [section slug: in-in-class-10-math-cbse-hindi]\n",
      "\tClass 11 Math (India) - Hindi [section slug: in-in-class-11-math-cbse-hindi]\n",
      "\tEarly math [section slug: early-math]\n",
      "\tKindergarten [section slug: cc-kindergarten-math]\n",
      "\t1st grade [section slug: cc-1st-grade-math]\n",
      "\t2nd grade [section slug: cc-2nd-grade-math]\n",
      "\t3rd grade [section slug: cc-third-grade-math]\n",
      "\t4th grade [section slug: cc-fourth-grade-math]\n",
      "\t5th grade [section slug: cc-fifth-grade-math]\n",
      "\t6th grade [section slug: cc-sixth-grade-math]\n",
      "\t7th grade [section slug: cc-seventh-grade-math]\n",
      "\t8th grade [section slug: cc-eighth-grade-math]\n",
      "\tArithmetic [section slug: arithmetic]\n",
      "\tBasic geometry [section slug: basic-geo]\n",
      "\tPre-algebra [section slug: pre-algebra]\n",
      "\tAlgebra basics [section slug: algebra-basics]\n",
      "\tAlgebra I [section slug: algebra]\n",
      "\tHigh school geometry [section slug: geometry]\n",
      "\tAlgebra II [section slug: algebra2]\n",
      "\tTrigonometry [section slug: trigonometry]\n",
      "\tStatistics and probability [section slug: statistics-probability]\n",
      "\tHigh school statistics [section slug: probability]\n",
      "\tAP®︎ Statistics [section slug: ap-statistics]\n",
      "\tPrecalculus [section slug: precalculus]\n",
      "\tDifferential Calculus [section slug: differential-calculus]\n",
      "\tIntegral Calculus [section slug: integral-calculus]\n",
      "\tAP®︎ Calculus AB [section slug: ap-calculus-ab]\n",
      "\tAP®︎ Calculus BC [section slug: ap-calculus-bc]\n",
      "\tCalculus 1 [section slug: calculus-1]\n",
      "\tCalculus 2 [section slug: calculus-2]\n",
      "\tMultivariable calculus [section slug: multivariable-calculus]\n",
      "\tDifferential equations [section slug: differential-equations]\n",
      "\tLinear algebra [section slug: linear-algebra]\n",
      "\t7th grade (Ontario) [section slug: on-seventh-grade-math]\n",
      "\t6th grade (WNCP) [section slug: ab-sixth-grade-math]\n",
      "\tIllustrative Mathematics 6-8 Math [section slug: illustrative-math]\n",
      "\t6th grade (Illustrative Mathematics) [section slug: 6th-grade-illustrative-math]\n",
      "\t7th grade (Illustrative Mathematics) [section slug: 7th-grade-illustrative-math]\n",
      "\t8th grade (Illustrative Mathematics) [section slug: 8th-grade-illustrative-math]\n",
      "\t3rd grade (Eureka Math/EngageNY) [section slug: 3rd-engage-ny]\n",
      "\t4th grade (Eureka Math/EngageNY) [section slug: 4th-engage-ny]\n",
      "\t5th grade (Eureka Math/EngageNY) [section slug: 5th-engage-ny]\n",
      "\t6th grade (Eureka Math/EngageNY) [section slug: 6th-engage-ny]\n",
      "\t7th grade (Eureka Math/EngageNY) [section slug: 7th-engage-ny]\n",
      "\t8th grade (Eureka Math/EngageNY) [section slug: 8th-engage-ny]\n",
      "\tAlgebra I (Eureka Math/EngageNY) [section slug: engageny-alg-1]\n",
      "\tGeometry (Eureka Math/EngageNY) [section slug: engageny-geo]\n",
      "\tAlgebra II (Eureka Math/EngageNY) [section slug: engageny-alg2]\n",
      "\tPrecalculus (Eureka Math/EngageNY) [section slug: engageny-precalc]\n",
      "\t3rd grade foundations (Eureka Math/EngageNY)  [section slug: 3rd-grade-foundations-engageny]\n",
      "\t4th grade foundations (Eureka Math/EngageNY)  [section slug: 4th-grade-foundations-engageny]\n",
      "\t5th grade foundations (Eureka Math/EngageNY)  [section slug: 5th-grade-foundations-engageny]\n",
      "\t6th grade foundations (Eureka Math/EngageNY) [section slug: 6th-grade-foundations-engageny]\n",
      "\t7th grade foundations (Eureka Math/EngageNY) [section slug: 7th-grade-foundations-engageny]\n",
      "\t8th grade foundations (Eureka Math/EngageNY) [section slug: 8th-grade-foundations-engageny]\n",
      "\tMathematics I [section slug: math1]\n",
      "\tMathematics II [section slug: math2]\n",
      "\tMathematics III [section slug: math3]\n",
      "\tArithmetic (all content) [section slug: arithmetic-home]\n",
      "\tAlgebra (all content) [section slug: algebra-home]\n",
      "\tGeometry (all content) [section slug: geometry-home]\n",
      "\tCalculus, all content (2017 edition) [section slug: calculus-all-old]\n",
      "\tDifferential Calculus (2017 edition) [section slug: old-differential-calculus]\n",
      "\tIntegral Calculus (2017 edition) [section slug: old-integral-calculus]\n",
      "\tAP®︎ Calculus AB (2017 edition) [section slug: old-ap-calculus-ab]\n",
      "\tAP®︎ Calculus BC (2017 edition) [section slug: old-ap-calculus-bc]\n",
      "\tMath for fun and glory [section slug: math-for-fun-and-glory]\n",
      "\tClass 8 (India)   [section slug: in-eighth-grade-math]\n",
      "\tMath - Indian curriculum [section slug: in-math-by-grade]\n",
      "\tLearn with Hindi videos [section slug: hindi]\n",
      "\tLearn math with Hindi videos [section slug: math-hindi]\n",
      "\n"
     ]
    }
   ],
   "source": [
    "for course in resp['children']:\n",
    "    if course['slug'] != 'math':\n",
    "        continue\n",
    "        \n",
    "    print('{} [slug: {}]'.format(course['title'], course['slug']))\n",
    "    print('Sections:')\n",
    "    for section in course['children']:\n",
    "        print('\\t{} [section slug: {}]'.format(section['title'], section['slug']))\n",
    "    print()"
   ]
  },
  {
   "cell_type": "code",
   "execution_count": 57,
   "metadata": {},
   "outputs": [],
   "source": [
    "math = get_section_by_slug(resp, 'math')"
   ]
  },
  {
   "cell_type": "code",
   "execution_count": 58,
   "metadata": {},
   "outputs": [
    {
     "name": "stdout",
     "output_type": "stream",
     "text": [
      "+----------------------------------+--------------------+\n",
      "|               Key                |        Type        |\n",
      "+----------------------------------+--------------------+\n",
      "|            gplus_url             |   <class 'str'>    |\n",
      "| has_user_authored_content_types  |   <class 'bool'>   |\n",
      "|         standalone_title         |   <class 'str'>    |\n",
      "|               hide               |   <class 'bool'>   |\n",
      "|           content_kind           |   <class 'str'>    |\n",
      "|           domain_slug            |   <class 'str'>    |\n",
      "|              ka_url              |   <class 'str'>    |\n",
      "|         translated_title         |   <class 'str'>    |\n",
      "|     background_image_caption     |   <class 'str'>    |\n",
      "|    has_peer_reviewed_projects    |   <class 'bool'>   |\n",
      "|       background_image_url       |   <class 'str'>    |\n",
      "|             icon_src             |   <class 'str'>    |\n",
      "|           endorsement            | <class 'NoneType'> |\n",
      "|         alternate_slugs          |   <class 'list'>   |\n",
      "|          logo_image_url          |   <class 'str'>    |\n",
      "|          extended_slug           |   <class 'str'>    |\n",
      "|             web_url              |   <class 'str'>    |\n",
      "|            node_slug             |   <class 'str'>    |\n",
      "|           relative_url           |   <class 'str'>    |\n",
      "|         deleted_mod_time         |   <class 'str'>    |\n",
      "|           render_type            |   <class 'str'>    |\n",
      "|           description            |   <class 'str'>    |\n",
      "|          listed_locales          |   <class 'list'>   |\n",
      "|        branding_image_url        |   <class 'str'>    |\n",
      "|          topic_page_url          |   <class 'str'>    |\n",
      "|   user_authored_content_types    |   <class 'list'>   |\n",
      "|             children             |   <class 'list'>   |\n",
      "|          do_not_publish          |   <class 'bool'>   |\n",
      "|               kind               |   <class 'str'>    |\n",
      "|               slug               |   <class 'str'>    |\n",
      "|                id                |   <class 'str'>    |\n",
      "|            child_data            |   <class 'list'>   |\n",
      "|   translated_standalone_title    |   <class 'str'>    |\n",
      "|           twitter_url            |   <class 'str'>    |\n",
      "|              title               |   <class 'str'>    |\n",
      "|           facebook_url           |   <class 'str'>    |\n",
      "| user_authored_content_types_info |   <class 'list'>   |\n",
      "|               tags               |   <class 'list'>   |\n",
      "|          creation_date           |   <class 'str'>    |\n",
      "|          curriculum_key          |   <class 'str'>    |\n",
      "|             deleted              |   <class 'bool'>   |\n",
      "|      translated_description      |   <class 'str'>    |\n",
      "|               sha                |   <class 'str'>    |\n",
      "|         in_knowledge_map         |   <class 'bool'>   |\n",
      "|       current_revision_key       |   <class 'str'>    |\n",
      "|            content_id            |   <class 'str'>    |\n",
      "|             curation             |   <class 'dict'>   |\n",
      "+----------------------------------+--------------------+\n"
     ]
    }
   ],
   "source": [
    "table = PrettyTable()\n",
    "table.field_names = ['Key', 'Type']\n",
    "\n",
    "for key in math.keys():\n",
    "    table.add_row([key, type(math[key])])\n",
    "    \n",
    "print(table)"
   ]
  },
  {
   "cell_type": "code",
   "execution_count": 59,
   "metadata": {},
   "outputs": [],
   "source": [
    "early_math = get_section_by_slug(resp, 'early-math')"
   ]
  },
  {
   "cell_type": "code",
   "execution_count": 60,
   "metadata": {},
   "outputs": [
    {
     "data": {
      "text/plain": [
       "dict"
      ]
     },
     "execution_count": 60,
     "metadata": {},
     "output_type": "execute_result"
    }
   ],
   "source": [
    "type(early_math)"
   ]
  },
  {
   "cell_type": "code",
   "execution_count": null,
   "metadata": {},
   "outputs": [],
   "source": [
    "structure(early_math)"
   ]
  },
  {
   "cell_type": "raw",
   "metadata": {},
   "source": [
    "early_math['children'][0]['children'][0]"
   ]
  },
  {
   "cell_type": "raw",
   "metadata": {},
   "source": [
    "early_math['children'][0]['children'][0]['children'][1]"
   ]
  },
  {
   "cell_type": "raw",
   "metadata": {},
   "source": [
    "early_math['children'][0]['children'][0]['children'][1]"
   ]
  },
  {
   "cell_type": "raw",
   "metadata": {},
   "source": [
    "early_math['children'][0]['children'][0]['children'][0]"
   ]
  },
  {
   "cell_type": "code",
   "execution_count": 28,
   "metadata": {},
   "outputs": [],
   "source": [
    "def extract_video_lengths(d):\n",
    "#     import ipdb; ipdb.set_trace()\n",
    "    if not 'children' in d and d['kind'] == 'Video':\n",
    "        return (d['youtube_id'], d['duration'])\n",
    "    \n",
    "    vids = list()\n",
    "    \n",
    "    for children in d['children']:\n",
    "        vids.append(extract_video_lengths(children))\n",
    "        \n",
    "    return vids"
   ]
  },
  {
   "cell_type": "code",
   "execution_count": 29,
   "metadata": {},
   "outputs": [],
   "source": [
    "vids = extract_video_lengths(early_math)"
   ]
  },
  {
   "cell_type": "code",
   "execution_count": 30,
   "metadata": {},
   "outputs": [
    {
     "data": {
      "text/plain": [
       "8"
      ]
     },
     "execution_count": 30,
     "metadata": {},
     "output_type": "execute_result"
    }
   ],
   "source": [
    "len(vids)"
   ]
  },
  {
   "cell_type": "code",
   "execution_count": 31,
   "metadata": {},
   "outputs": [
    {
     "data": {
      "text/plain": [
       "[[[('y2-uaPiyoxc', 56), ('PEeUTQ0Gri8', 118)],\n",
       "  [('9XZypM2Z3Ro', 298), ('1AqkBdCBm9o', 114)],\n",
       "  [('leDYnoNSvD4', 73), ('I9S5CvSqb5A', 63), ('EUqhLxFccbM', 104)],\n",
       "  [('__nkbr6DeTg', 123), ('tJrSILRXOUc', 91), ('UA975j_qsTQ', 44)]],\n",
       " [[('fsTD_jqseBA', 191), ('AO9bHbUdg-M', 219)],\n",
       "  [('A-ykhY_IoaU', 246)],\n",
       "  [('An46SYAxhtc', 114), ('9FC0WT186aY', 120)],\n",
       "  [('ie0waMJxnTs', 137), ('kpEJwpemL2Q', 135)],\n",
       "  [('zVLjWIftX_o', 125)],\n",
       "  [('-3DFzxbP9Fk', 102), ('qSkpZswoZTc', 63)]],\n",
       " [[('ourH3ueWNmA', 180), ('zqwVKhQV_2w', 178)],\n",
       "  [('wx2gI8iwMCA', 359), ('X_PnRFAKbkg', 175), ('-Zlq5tNl94M', 259)],\n",
       "  [('nFsQA2Zvy1o', 304)],\n",
       "  [],\n",
       "  [('9Jg5S7F2SMQ', 124)]],\n",
       " [[('ZgzpTx-s9Zo', 233), ('AK0NZITv5Ns', 199), ('Utm875JRi-o', 158)],\n",
       "  [('9McJ3GobPaY', 243)],\n",
       "  [('gEGKvx1wlFg', 296)],\n",
       "  [],\n",
       "  [('fGok2nHOjnI', 218), ('SfgD7Sm08ns', 332)],\n",
       "  [('osIFa9zcI-w', 203), ('3rs7sFPoiZ4', 194)],\n",
       "  [('j5c6pqAP2IA', 129)]],\n",
       " [[('mKsKU0BAiRM', 137), ('Dy5uDkOoMNc', 196), ('7_QPAdHILzw', 156)],\n",
       "  [('8YR1E7XWPz8', 152), ('FWEqB0J6mgA', 165), ('bNNrlzel4Gw', 157)],\n",
       "  [('EV38zfiY6Vs', 113),\n",
       "   ('K5rmfHlHy20', 154),\n",
       "   ('UjfmOmPARyk', 288),\n",
       "   ('G1cNKc3PD74', 253),\n",
       "   ('DzJvR56Suss', 170)],\n",
       "  [('slIX9EDcHgE', 156), ('RzEFGpe0rv4', 141), ('zvetEuVJ0bE', 191)],\n",
       "  [('Q35CH9B3tvc', 216),\n",
       "   ('DzJvR56Suss', 170),\n",
       "   ('kMHFY6ZrKbU', 196),\n",
       "   ('I5xcZgyY4ag', 117)],\n",
       "  [('K5rmfHlHy20', 154), ('8mcTsyV56jI', 276)],\n",
       "  [('slIX9EDcHgE', 156), ('egjDLFX9VHg', 327)],\n",
       "  [('EQrCdEF3vNE', 267),\n",
       "   ('rm3NjcSmFFo', 213),\n",
       "   ('1dZsuE0vxEI', 211),\n",
       "   ('wyWy4PouQxQ', 259),\n",
       "   ('ZJ39gHgz_Dk', 265)],\n",
       "  [('qyvwN-2PoXA', 132), ('QYOieJuzDr4', 217), ('pvyqucC-0NU', 203)],\n",
       "  [('UwWn84u6i8s', 125), ('rfZokAnD7QM', 156), ('ruAXk6RnkG8', 169)],\n",
       "  [('zTK6XUF0HAs', 344)]],\n",
       " [[('wwO6DjL_wFw', 239), ('SCBp0d6zR2I', 217), ('d3109sV6izY', 160)],\n",
       "  [('4BNIGTHUTTM', 251), ('ycBxbgjQns4', 192), ('i8r7ZTUqB9w', 177)],\n",
       "  [('Hc9mcx739js', 222),\n",
       "   ('jAfJcgPGqgI', 448),\n",
       "   ('Nq88IHw4Y9E', 238),\n",
       "   ('WevZMyikGV4', 145)]],\n",
       " [[('SQmyTmO8OKw', 157)],\n",
       "  [('muC7HMIEYDU', 280), ('_irJM-um6HE', 174)],\n",
       "  [('o-D-8B_5ibU', 187), ('0B91xPrwcPE', 123)],\n",
       "  [('Ei5mgFtUGns', 350), ('pdleRJd9YNY', 248)],\n",
       "  [('w49ddHSDGUA', 168), ('HN6FNS7lRhw', 189)],\n",
       "  [('OmLl6pkvV-I', 177), ('JCdbCdwqXbc', 103), ('DvV0e5F98NQ', 298)],\n",
       "  [('AtiOjlyOQf4', 241), ('HN6FNS7lRhw', 189)],\n",
       "  [('NjJFJ7ge_qk', 171), ('ftndEjAg6qs', 136)],\n",
       "  [('s6NOa1KTCxQ', 198), ('pJ8KwRztfF0', 271)]],\n",
       " [[('8xbIS2UkQxI', 259), ('10dTx1Zy_4w', 369)],\n",
       "  [('8xbIS2UkQxI', 259), ('10dTx1Zy_4w', 369)],\n",
       "  [('K3GV13uokbk', 124)],\n",
       "  [('0lSTXtwPuOU', 145), ('YwNX9uWszQY', 185)]]]"
      ]
     },
     "execution_count": 31,
     "metadata": {},
     "output_type": "execute_result"
    }
   ],
   "source": [
    "vids"
   ]
  },
  {
   "cell_type": "code",
   "execution_count": 69,
   "metadata": {},
   "outputs": [],
   "source": [
    "from collections import deque\n",
    "\n",
    "def flatten(nested_list):\n",
    "    res_list = list()\n",
    "    d = deque()\n",
    "    for x in nested_list:\n",
    "        d.append(x)\n",
    "    \n",
    "    while len(d) > 0:\n",
    "        curr_item = d.popleft()\n",
    "        if type(curr_item) is list:\n",
    "            for x in curr_item:\n",
    "                d.append(x)\n",
    "        else:\n",
    "            res_list.append(curr_item)\n",
    "        \n",
    "    return res_list\n",
    "    "
   ]
  },
  {
   "cell_type": "code",
   "execution_count": 70,
   "metadata": {},
   "outputs": [],
   "source": [
    "import itertools\n",
    "\n",
    "flat_vids = flatten(vids)"
   ]
  },
  {
   "cell_type": "code",
   "execution_count": 71,
   "metadata": {},
   "outputs": [
    {
     "data": {
      "text/plain": [
       "[('y2-uaPiyoxc', 56),\n",
       " ('PEeUTQ0Gri8', 118),\n",
       " ('9XZypM2Z3Ro', 298),\n",
       " ('1AqkBdCBm9o', 114),\n",
       " ('leDYnoNSvD4', 73),\n",
       " ('I9S5CvSqb5A', 63),\n",
       " ('EUqhLxFccbM', 104),\n",
       " ('__nkbr6DeTg', 123),\n",
       " ('tJrSILRXOUc', 91),\n",
       " ('UA975j_qsTQ', 44)]"
      ]
     },
     "execution_count": 71,
     "metadata": {},
     "output_type": "execute_result"
    }
   ],
   "source": [
    "flat_vids[:10]"
   ]
  },
  {
   "cell_type": "code",
   "execution_count": 74,
   "metadata": {},
   "outputs": [
    {
     "data": {
      "text/plain": [
       "Counter({'-3DFzxbP9Fk': 1,\n",
       "         '-Zlq5tNl94M': 1,\n",
       "         '0B91xPrwcPE': 1,\n",
       "         '0lSTXtwPuOU': 1,\n",
       "         '10dTx1Zy_4w': 2,\n",
       "         '1AqkBdCBm9o': 1,\n",
       "         '1dZsuE0vxEI': 1,\n",
       "         '3rs7sFPoiZ4': 1,\n",
       "         '4BNIGTHUTTM': 1,\n",
       "         '7_QPAdHILzw': 1,\n",
       "         '8YR1E7XWPz8': 1,\n",
       "         '8mcTsyV56jI': 1,\n",
       "         '8xbIS2UkQxI': 2,\n",
       "         '9FC0WT186aY': 1,\n",
       "         '9Jg5S7F2SMQ': 1,\n",
       "         '9McJ3GobPaY': 1,\n",
       "         '9XZypM2Z3Ro': 1,\n",
       "         'A-ykhY_IoaU': 1,\n",
       "         'AK0NZITv5Ns': 1,\n",
       "         'AO9bHbUdg-M': 1,\n",
       "         'An46SYAxhtc': 1,\n",
       "         'AtiOjlyOQf4': 1,\n",
       "         'DvV0e5F98NQ': 1,\n",
       "         'Dy5uDkOoMNc': 1,\n",
       "         'DzJvR56Suss': 2,\n",
       "         'EQrCdEF3vNE': 1,\n",
       "         'EUqhLxFccbM': 1,\n",
       "         'EV38zfiY6Vs': 1,\n",
       "         'Ei5mgFtUGns': 1,\n",
       "         'FWEqB0J6mgA': 1,\n",
       "         'G1cNKc3PD74': 1,\n",
       "         'HN6FNS7lRhw': 2,\n",
       "         'Hc9mcx739js': 1,\n",
       "         'I5xcZgyY4ag': 1,\n",
       "         'I9S5CvSqb5A': 1,\n",
       "         'JCdbCdwqXbc': 1,\n",
       "         'K3GV13uokbk': 1,\n",
       "         'K5rmfHlHy20': 2,\n",
       "         'NjJFJ7ge_qk': 1,\n",
       "         'Nq88IHw4Y9E': 1,\n",
       "         'OmLl6pkvV-I': 1,\n",
       "         'PEeUTQ0Gri8': 1,\n",
       "         'Q35CH9B3tvc': 1,\n",
       "         'QYOieJuzDr4': 1,\n",
       "         'RzEFGpe0rv4': 1,\n",
       "         'SCBp0d6zR2I': 1,\n",
       "         'SQmyTmO8OKw': 1,\n",
       "         'SfgD7Sm08ns': 1,\n",
       "         'UA975j_qsTQ': 1,\n",
       "         'UjfmOmPARyk': 1,\n",
       "         'Utm875JRi-o': 1,\n",
       "         'UwWn84u6i8s': 1,\n",
       "         'WevZMyikGV4': 1,\n",
       "         'X_PnRFAKbkg': 1,\n",
       "         'YwNX9uWszQY': 1,\n",
       "         'ZJ39gHgz_Dk': 1,\n",
       "         'ZgzpTx-s9Zo': 1,\n",
       "         '__nkbr6DeTg': 1,\n",
       "         '_irJM-um6HE': 1,\n",
       "         'bNNrlzel4Gw': 1,\n",
       "         'd3109sV6izY': 1,\n",
       "         'egjDLFX9VHg': 1,\n",
       "         'fGok2nHOjnI': 1,\n",
       "         'fsTD_jqseBA': 1,\n",
       "         'ftndEjAg6qs': 1,\n",
       "         'gEGKvx1wlFg': 1,\n",
       "         'i8r7ZTUqB9w': 1,\n",
       "         'ie0waMJxnTs': 1,\n",
       "         'j5c6pqAP2IA': 1,\n",
       "         'jAfJcgPGqgI': 1,\n",
       "         'kMHFY6ZrKbU': 1,\n",
       "         'kpEJwpemL2Q': 1,\n",
       "         'leDYnoNSvD4': 1,\n",
       "         'mKsKU0BAiRM': 1,\n",
       "         'muC7HMIEYDU': 1,\n",
       "         'nFsQA2Zvy1o': 1,\n",
       "         'o-D-8B_5ibU': 1,\n",
       "         'osIFa9zcI-w': 1,\n",
       "         'ourH3ueWNmA': 1,\n",
       "         'pJ8KwRztfF0': 1,\n",
       "         'pdleRJd9YNY': 1,\n",
       "         'pvyqucC-0NU': 1,\n",
       "         'qSkpZswoZTc': 1,\n",
       "         'qyvwN-2PoXA': 1,\n",
       "         'rfZokAnD7QM': 1,\n",
       "         'rm3NjcSmFFo': 1,\n",
       "         'ruAXk6RnkG8': 1,\n",
       "         's6NOa1KTCxQ': 1,\n",
       "         'slIX9EDcHgE': 2,\n",
       "         'tJrSILRXOUc': 1,\n",
       "         'w49ddHSDGUA': 1,\n",
       "         'wwO6DjL_wFw': 1,\n",
       "         'wx2gI8iwMCA': 1,\n",
       "         'wyWy4PouQxQ': 1,\n",
       "         'y2-uaPiyoxc': 1,\n",
       "         'ycBxbgjQns4': 1,\n",
       "         'zTK6XUF0HAs': 1,\n",
       "         'zVLjWIftX_o': 1,\n",
       "         'zqwVKhQV_2w': 1,\n",
       "         'zvetEuVJ0bE': 1})"
      ]
     },
     "execution_count": 74,
     "metadata": {},
     "output_type": "execute_result"
    }
   ],
   "source": [
    "from collections import Counter\n",
    "Counter([v[0] for v in flat_vids])"
   ]
  },
  {
   "cell_type": "code",
   "execution_count": 35,
   "metadata": {},
   "outputs": [],
   "source": [
    "vids_dict = { v[0] : v[1] for v in flat_vids }"
   ]
  },
  {
   "cell_type": "code",
   "execution_count": 77,
   "metadata": {},
   "outputs": [
    {
     "data": {
      "text/plain": [
       "19284"
      ]
     },
     "execution_count": 77,
     "metadata": {},
     "output_type": "execute_result"
    }
   ],
   "source": [
    "section_duration = sum([v for k, v in vids_dict.items()])\n",
    "section_duration"
   ]
  },
  {
   "cell_type": "code",
   "execution_count": 78,
   "metadata": {},
   "outputs": [
    {
     "data": {
      "text/plain": [
       "'5:21:24'"
      ]
     },
     "execution_count": 78,
     "metadata": {},
     "output_type": "execute_result"
    }
   ],
   "source": [
    "import datetime\n",
    "str(datetime.timedelta(seconds=int(section_duration)))"
   ]
  },
  {
   "cell_type": "markdown",
   "metadata": {},
   "source": [
    "<hr>"
   ]
  },
  {
   "cell_type": "code",
   "execution_count": 79,
   "metadata": {},
   "outputs": [],
   "source": [
    "math_vids = extract_video_lengths(math)"
   ]
  },
  {
   "cell_type": "code",
   "execution_count": 81,
   "metadata": {},
   "outputs": [],
   "source": [
    "import itertools\n",
    "\n",
    "math_vids = flatten(math_vids)"
   ]
  },
  {
   "cell_type": "code",
   "execution_count": 82,
   "metadata": {},
   "outputs": [
    {
     "data": {
      "text/plain": [
       "16503"
      ]
     },
     "execution_count": 82,
     "metadata": {},
     "output_type": "execute_result"
    }
   ],
   "source": [
    "len(math_vids)"
   ]
  },
  {
   "cell_type": "code",
   "execution_count": 83,
   "metadata": {},
   "outputs": [],
   "source": [
    "math_vids_dict = { v[0] : v[1] for v in math_vids }"
   ]
  },
  {
   "cell_type": "code",
   "execution_count": 84,
   "metadata": {},
   "outputs": [
    {
     "data": {
      "text/plain": [
       "1766276"
      ]
     },
     "execution_count": 84,
     "metadata": {},
     "output_type": "execute_result"
    }
   ],
   "source": [
    "math_duration = sum([v for k, v in math_vids_dict.items()])\n",
    "math_duration"
   ]
  },
  {
   "cell_type": "code",
   "execution_count": 85,
   "metadata": {},
   "outputs": [
    {
     "data": {
      "text/plain": [
       "'20 days, 10:37:56'"
      ]
     },
     "execution_count": 85,
     "metadata": {},
     "output_type": "execute_result"
    }
   ],
   "source": [
    "str(datetime.timedelta(seconds=int(math_duration)))"
   ]
  },
  {
   "cell_type": "markdown",
   "metadata": {},
   "source": [
    "<hr>"
   ]
  },
  {
   "cell_type": "code",
   "execution_count": 61,
   "metadata": {},
   "outputs": [],
   "source": [
    "em_vids = extract_video_lengths(em)"
   ]
  },
  {
   "cell_type": "code",
   "execution_count": 87,
   "metadata": {},
   "outputs": [],
   "source": [
    "em_vids = flatten(em_vids)"
   ]
  },
  {
   "cell_type": "code",
   "execution_count": 88,
   "metadata": {},
   "outputs": [
    {
     "data": {
      "text/plain": [
       "106"
      ]
     },
     "execution_count": 88,
     "metadata": {},
     "output_type": "execute_result"
    }
   ],
   "source": [
    "len(em_vids)"
   ]
  },
  {
   "cell_type": "code",
   "execution_count": 89,
   "metadata": {},
   "outputs": [],
   "source": [
    "em_vids_dict = { v[0] : v[1] for v in em_vids }"
   ]
  },
  {
   "cell_type": "code",
   "execution_count": 90,
   "metadata": {},
   "outputs": [
    {
     "data": {
      "text/plain": [
       "19284"
      ]
     },
     "execution_count": 90,
     "metadata": {},
     "output_type": "execute_result"
    }
   ],
   "source": [
    "em_duration = np.sum([v for k, v in em_vids_dict.items()])\n",
    "em_duration"
   ]
  },
  {
   "cell_type": "code",
   "execution_count": 91,
   "metadata": {},
   "outputs": [
    {
     "data": {
      "text/plain": [
       "'5:21:24'"
      ]
     },
     "execution_count": 91,
     "metadata": {},
     "output_type": "execute_result"
    }
   ],
   "source": [
    "str(datetime.timedelta(seconds=int(em_duration)))"
   ]
  }
 ],
 "metadata": {
  "kernelspec": {
   "display_name": "Python 3",
   "language": "python",
   "name": "python3"
  },
  "language_info": {
   "codemirror_mode": {
    "name": "ipython",
    "version": 3
   },
   "file_extension": ".py",
   "mimetype": "text/x-python",
   "name": "python",
   "nbconvert_exporter": "python",
   "pygments_lexer": "ipython3",
   "version": "3.5.2"
  }
 },
 "nbformat": 4,
 "nbformat_minor": 2
}
