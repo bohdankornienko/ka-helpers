{
 "cells": [
  {
   "cell_type": "code",
   "execution_count": null,
   "metadata": {},
   "outputs": [],
   "source": [
    "from time import sleep\n",
    "\n",
    "from bs4 import BeautifulSoup\n",
    "\n",
    "from selenium import webdriver\n",
    "from selenium.webdriver.common.keys import Keys"
   ]
  },
  {
   "cell_type": "code",
   "execution_count": null,
   "metadata": {},
   "outputs": [],
   "source": [
    "from selenium.webdriver.support.ui import WebDriverWait\n",
    "from selenium.webdriver.support import expected_conditions as EC\n",
    "from selenium.webdriver.common.by import By\n",
    "from selenium.common.exceptions import TimeoutException\n",
    "\n",
    "def wait_for_class(driver, item_class):\n",
    "    delay = 5 # seconds\n",
    "    try:\n",
    "        myElem = WebDriverWait(driver, delay).until(EC.presence_of_element_located((By.CLASS_NAME, item_class)))\n",
    "    except TimeoutException:\n",
    "        print('Reached timeout')\n",
    "\n",
    "def wait_for_id(driver, item_id):\n",
    "    delay = 5 # seconds\n",
    "    try:\n",
    "        myElem = WebDriverWait(driver, delay).until(EC.presence_of_element_located((By.ID, item_id)))\n",
    "    except TimeoutException:\n",
    "        print('Reached timeout')"
   ]
  },
  {
   "cell_type": "code",
   "execution_count": null,
   "metadata": {},
   "outputs": [],
   "source": [
    "crowd_in_prefix = 'https://crowdin.com'"
   ]
  },
  {
   "cell_type": "code",
   "execution_count": null,
   "metadata": {},
   "outputs": [],
   "source": [
    "try:\n",
    "    driver.close()\n",
    "except:\n",
    "    pass"
   ]
  },
  {
   "cell_type": "code",
   "execution_count": null,
   "metadata": {},
   "outputs": [],
   "source": [
    "driver = webdriver.Chrome()"
   ]
  },
  {
   "cell_type": "code",
   "execution_count": null,
   "metadata": {},
   "outputs": [],
   "source": [
    "driver.get(crowd_in_prefix + '/login')"
   ]
  },
  {
   "cell_type": "code",
   "execution_count": null,
   "metadata": {},
   "outputs": [],
   "source": [
    "import yaml\n",
    "import os\n",
    "\n",
    "env_path = os.path.join(os.environ['KA_HELPERS_REPO'], 'env.yaml')\n",
    "\n",
    "with open(env_path, 'r') as fp:\n",
    "    env = yaml.safe_load(fp)"
   ]
  },
  {
   "cell_type": "code",
   "execution_count": null,
   "metadata": {},
   "outputs": [],
   "source": [
    "driver.find_element_by_id('login_login').send_keys(env['crowdin']['user'])\n",
    "driver.find_element_by_id('login_password').send_keys(env['crowdin']['pass'])\n",
    "driver.find_element_by_id('login_password').send_keys(Keys.ENTER)"
   ]
  },
  {
   "cell_type": "code",
   "execution_count": null,
   "metadata": {},
   "outputs": [],
   "source": [
    "'''\n",
    "TODO: replace sleeps with event handlings\n",
    "'''\n",
    "\n",
    "url = 'https://crowdin.com/project/khanacademy/activity_stream'\n",
    "\n",
    "\n",
    "driver.get(url)\n",
    "\n",
    "# sleep(5)\n",
    "wait_for_class(driver, 'list-activity')\n",
    "elem = driver.find_element_by_id('result-languages-list')\n",
    "\n",
    "elem.click()\n",
    "sleep(1)\n",
    "div_languages_filter = driver.find_element_by_id('languages-filter')\n",
    "\n",
    "lang_input_field = div_languages_filter.find_element_by_tag_name('input')\n",
    "\n",
    "lang_input_field.clear()\n",
    "lang_input_field.send_keys(\"Ukra\")\n",
    "sleep(2)\n",
    "lang_input_field.send_keys(Keys.RETURN)\n",
    "sleep(3)"
   ]
  },
  {
   "cell_type": "code",
   "execution_count": null,
   "metadata": {},
   "outputs": [],
   "source": [
    "hats = driver.find_elements_by_class_name('static-icon-chevron-down')\n",
    "for hat in hats:\n",
    "    hat.click()\n",
    "    sleep(0.2)\n",
    "\n",
    "activity = driver.find_element_by_id('activity_stream')\n",
    "activity = activity.find_element_by_tag_name('div')\n",
    "\n",
    "activity_html = activity.get_attribute('innerHTML')\n",
    "\n",
    "soup = BeautifulSoup(activity_html, 'html.parser')\n",
    "\n",
    "user_activities = soup.contents[0]\n",
    "\n",
    "summary = dict()\n",
    "\n",
    "DATE_ITEM = 'line-activities-date'\n",
    "PHRASE_SUGGESTED_ITEM = 'phrase_suggested'\n",
    "\n",
    "last_day = ''\n",
    "for i, item in enumerate(user_activities.contents):\n",
    "    if DATE_ITEM in item['class']:\n",
    "        current_date = item.string\n",
    "        last_day = current_date\n",
    "\n",
    "        if current_date not in summary.keys():\n",
    "            summary[current_date] = dict()\n",
    "\n",
    "    if PHRASE_SUGGESTED_ITEM in item['class']:\n",
    "        entry = item.contents[1].contents[0].contents[2]\n",
    "        if 'You suggested' in entry.get_text():\n",
    "            title = 'Bohdan'\n",
    "        else:\n",
    "            title = entry.contents[0].contents[0].get_text()\n",
    "\n",
    "        summary[current_date][title] = dict()\n",
    "        summary[current_date][title]['hrefs'] = list()\n",
    "\n",
    "        if len(item.contents) < 3:\n",
    "            # this special case\n",
    "            row_item = item.contents[1].contents[0].contents[2].contents[0].contents[2]\n",
    "            href = row_item['href']\n",
    "            summary[current_date][title]['hrefs'].append(href)\n",
    "            continue\n",
    "\n",
    "        translates = item.contents[2]\n",
    "        translations_table = translates.contents[0].contents[1]\n",
    "\n",
    "        for table_row in translations_table.contents:\n",
    "            row_item = table_row.contents[0].contents[0]\n",
    "            href = row_item['href']\n",
    "            summary[current_date][title]['hrefs'].append(href)"
   ]
  },
  {
   "cell_type": "code",
   "execution_count": null,
   "metadata": {},
   "outputs": [],
   "source": [
    "len(hats)"
   ]
  },
  {
   "cell_type": "code",
   "execution_count": null,
   "metadata": {},
   "outputs": [],
   "source": [
    "def prettify(html):\n",
    "    print(BeautifulSoup(html, 'html.parser').prettify())"
   ]
  },
  {
   "cell_type": "code",
   "execution_count": null,
   "metadata": {},
   "outputs": [],
   "source": [
    "i = 0\n",
    "for day, activity in summary.items():\n",
    "    i+= 1\n",
    "    print(day)\n",
    "    for person, person_results in activity.items():\n",
    "        print(person)\n",
    "        \n",
    "        if 'translaitons' not in person_results.keys():\n",
    "            person_results['translations'] = list()\n",
    "            \n",
    "        print('Hrefs to work on: {}'.format(len(person_results['hrefs'])))\n",
    "        for href in person_results['hrefs']:\n",
    "            href = crowd_in_prefix + href\n",
    "            \n",
    "            translation = {\n",
    "                'source': None,\n",
    "                'suggestions': list()\n",
    "            }\n",
    "\n",
    "            driver.get(href)\n",
    "            driver.refresh()\n",
    "\n",
    "            wait_for_id(driver, 'source_phrase_container')\n",
    "            # wait_for_id(driver, 'suggestions-list')\n",
    "            sleep(1)\n",
    "            source_elem = driver.find_element_by_id('source_phrase_container')\n",
    "            translation['source'] = source_elem.text\n",
    "\n",
    "            suggestions = driver.find_elements_by_class_name('suggestion')\n",
    "\n",
    "            for sug in suggestions:\n",
    "                text = sug.find_elements_by_class_name('suggestion-text')[0].text\n",
    "                author = 'Machine Translation'\n",
    "                \n",
    "                matches = sug.find_elements_by_class_name('author-name')\n",
    "                if len(matches) > 0:\n",
    "                    author = sug.find_elements_by_class_name('author-name')[0].text\n",
    "                \n",
    "                translation_suggestion = {\n",
    "                    'author': author,\n",
    "                    'text': text\n",
    "                }\n",
    "   \n",
    "                translation['suggestions'].append(translation_suggestion)\n",
    "            \n",
    "            person_results['translations'].append(translation)\n",
    "\n",
    "    print('-'*30)"
   ]
  },
  {
   "cell_type": "code",
   "execution_count": null,
   "metadata": {},
   "outputs": [],
   "source": [
    "import json\n",
    "with open('summary.json', 'w') as fp:\n",
    "    json.dump(summary, fp)\n",
    "\n",
    "'Results are stored'"
   ]
  },
  {
   "cell_type": "code",
   "execution_count": null,
   "metadata": {},
   "outputs": [],
   "source": [
    "driver.close()"
   ]
  },
  {
   "cell_type": "markdown",
   "metadata": {},
   "source": [
    "---\n",
    "\n",
    "# Process one"
   ]
  },
  {
   "cell_type": "code",
   "execution_count": null,
   "metadata": {},
   "outputs": [],
   "source": [
    "d = list(summary.keys())[0]\n",
    "n = list(summary[d].keys())[0]\n",
    "summary[d][n]"
   ]
  },
  {
   "cell_type": "code",
   "execution_count": null,
   "metadata": {},
   "outputs": [],
   "source": [
    "item = summary[d][n]['hrefs'][0]\n",
    "item"
   ]
  },
  {
   "cell_type": "code",
   "execution_count": null,
   "metadata": {},
   "outputs": [],
   "source": [
    "href = crowd_in_prefix + item\n",
    "href"
   ]
  },
  {
   "cell_type": "code",
   "execution_count": null,
   "metadata": {},
   "outputs": [],
   "source": [
    "driver.get(href)\n",
    "driver.refresh()"
   ]
  },
  {
   "cell_type": "code",
   "execution_count": null,
   "metadata": {},
   "outputs": [],
   "source": [
    "wait_for_id(driver, 'source_phrase_container')\n",
    "sleep(1)\n",
    "source_elem = driver.find_element_by_id('source_phrase_container')\n",
    "source_elem"
   ]
  },
  {
   "cell_type": "code",
   "execution_count": null,
   "metadata": {},
   "outputs": [],
   "source": [
    "source_elem.text"
   ]
  },
  {
   "cell_type": "code",
   "execution_count": null,
   "metadata": {},
   "outputs": [],
   "source": [
    "suggestions = driver.find_elements_by_class_name('suggestion')\n",
    "suggestions"
   ]
  },
  {
   "cell_type": "code",
   "execution_count": null,
   "metadata": {},
   "outputs": [],
   "source": [
    "for sug in suggestions:\n",
    "    print(sug.find_elements_by_class_name('suggestion-text')[0].text)\n",
    "    matches = sug.find_elements_by_class_name('author-name')\n",
    "    if len(matches) > 0:\n",
    "        print(sug.find_elements_by_class_name('author-name')[0].text)\n",
    "    else:\n",
    "        print(\"Machine Translation\")\n",
    "    print('-' * 20)"
   ]
  },
  {
   "cell_type": "code",
   "execution_count": null,
   "metadata": {},
   "outputs": [],
   "source": [
    "driver.close()"
   ]
  }
 ],
 "metadata": {
  "kernelspec": {
   "display_name": "kahelpers",
   "language": "python",
   "name": "kahelpers"
  },
  "language_info": {
   "codemirror_mode": {
    "name": "ipython",
    "version": 3
   },
   "file_extension": ".py",
   "mimetype": "text/x-python",
   "name": "python",
   "nbconvert_exporter": "python",
   "pygments_lexer": "ipython3",
   "version": "3.8.0"
  }
 },
 "nbformat": 4,
 "nbformat_minor": 4
}
